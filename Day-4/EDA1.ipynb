{
 "cells": [
  {
   "cell_type": "code",
   "execution_count": 3,
   "id": "604cf3da-67aa-4a95-a9b5-558aaa086e17",
   "metadata": {},
   "outputs": [
    {
     "name": "stdout",
     "output_type": "stream",
     "text": [
      "   STUDENT_ID             Name  Match  Science  English  Total           Grade\n",
      "0           1   Dallas Flisher     82       48       83     56          mobile\n",
      "1           2   Gilberta Ruoff     97       49       26    186          mobile\n",
      "2           3      Peg Domoney     60       50       56     33      complexity\n",
      "3           4  Frederich Kaley     29       80       30    280        Devolved\n",
      "4           5     Nady Tiffney     10       77       25     13  data-warehouse\n"
     ]
    }
   ],
   "source": [
    "import pandas as pd #import pandas\n",
    "#create student dataframe by reading csv file\n",
    "df=pd.read_csv(\"marks_data.csv\")\n",
    "print(df.head())"
   ]
  },
  {
   "cell_type": "code",
   "execution_count": 4,
   "id": "587f3ee1-8105-43d4-95d1-54c38472a717",
   "metadata": {},
   "outputs": [
    {
     "data": {
      "text/html": [
       "<div>\n",
       "<style scoped>\n",
       "    .dataframe tbody tr th:only-of-type {\n",
       "        vertical-align: middle;\n",
       "    }\n",
       "\n",
       "    .dataframe tbody tr th {\n",
       "        vertical-align: top;\n",
       "    }\n",
       "\n",
       "    .dataframe thead th {\n",
       "        text-align: right;\n",
       "    }\n",
       "</style>\n",
       "<table border=\"1\" class=\"dataframe\">\n",
       "  <thead>\n",
       "    <tr style=\"text-align: right;\">\n",
       "      <th></th>\n",
       "      <th>STUDENT_ID</th>\n",
       "      <th>Name</th>\n",
       "      <th>Match</th>\n",
       "      <th>Science</th>\n",
       "      <th>English</th>\n",
       "      <th>Total</th>\n",
       "      <th>Grade</th>\n",
       "    </tr>\n",
       "  </thead>\n",
       "  <tbody>\n",
       "    <tr>\n",
       "      <th>0</th>\n",
       "      <td>False</td>\n",
       "      <td>False</td>\n",
       "      <td>False</td>\n",
       "      <td>False</td>\n",
       "      <td>False</td>\n",
       "      <td>False</td>\n",
       "      <td>False</td>\n",
       "    </tr>\n",
       "    <tr>\n",
       "      <th>1</th>\n",
       "      <td>False</td>\n",
       "      <td>False</td>\n",
       "      <td>False</td>\n",
       "      <td>False</td>\n",
       "      <td>False</td>\n",
       "      <td>False</td>\n",
       "      <td>False</td>\n",
       "    </tr>\n",
       "    <tr>\n",
       "      <th>2</th>\n",
       "      <td>False</td>\n",
       "      <td>False</td>\n",
       "      <td>False</td>\n",
       "      <td>False</td>\n",
       "      <td>False</td>\n",
       "      <td>False</td>\n",
       "      <td>False</td>\n",
       "    </tr>\n",
       "    <tr>\n",
       "      <th>3</th>\n",
       "      <td>False</td>\n",
       "      <td>False</td>\n",
       "      <td>False</td>\n",
       "      <td>False</td>\n",
       "      <td>False</td>\n",
       "      <td>False</td>\n",
       "      <td>False</td>\n",
       "    </tr>\n",
       "    <tr>\n",
       "      <th>4</th>\n",
       "      <td>False</td>\n",
       "      <td>False</td>\n",
       "      <td>False</td>\n",
       "      <td>False</td>\n",
       "      <td>False</td>\n",
       "      <td>False</td>\n",
       "      <td>False</td>\n",
       "    </tr>\n",
       "    <tr>\n",
       "      <th>...</th>\n",
       "      <td>...</td>\n",
       "      <td>...</td>\n",
       "      <td>...</td>\n",
       "      <td>...</td>\n",
       "      <td>...</td>\n",
       "      <td>...</td>\n",
       "      <td>...</td>\n",
       "    </tr>\n",
       "    <tr>\n",
       "      <th>95</th>\n",
       "      <td>False</td>\n",
       "      <td>False</td>\n",
       "      <td>False</td>\n",
       "      <td>False</td>\n",
       "      <td>False</td>\n",
       "      <td>False</td>\n",
       "      <td>False</td>\n",
       "    </tr>\n",
       "    <tr>\n",
       "      <th>96</th>\n",
       "      <td>False</td>\n",
       "      <td>False</td>\n",
       "      <td>False</td>\n",
       "      <td>False</td>\n",
       "      <td>False</td>\n",
       "      <td>False</td>\n",
       "      <td>False</td>\n",
       "    </tr>\n",
       "    <tr>\n",
       "      <th>97</th>\n",
       "      <td>False</td>\n",
       "      <td>False</td>\n",
       "      <td>False</td>\n",
       "      <td>False</td>\n",
       "      <td>False</td>\n",
       "      <td>False</td>\n",
       "      <td>False</td>\n",
       "    </tr>\n",
       "    <tr>\n",
       "      <th>98</th>\n",
       "      <td>False</td>\n",
       "      <td>False</td>\n",
       "      <td>False</td>\n",
       "      <td>False</td>\n",
       "      <td>False</td>\n",
       "      <td>False</td>\n",
       "      <td>False</td>\n",
       "    </tr>\n",
       "    <tr>\n",
       "      <th>99</th>\n",
       "      <td>False</td>\n",
       "      <td>False</td>\n",
       "      <td>False</td>\n",
       "      <td>False</td>\n",
       "      <td>False</td>\n",
       "      <td>False</td>\n",
       "      <td>False</td>\n",
       "    </tr>\n",
       "  </tbody>\n",
       "</table>\n",
       "<p>100 rows × 7 columns</p>\n",
       "</div>"
      ],
      "text/plain": [
       "    STUDENT_ID   Name  Match  Science  English  Total  Grade\n",
       "0        False  False  False    False    False  False  False\n",
       "1        False  False  False    False    False  False  False\n",
       "2        False  False  False    False    False  False  False\n",
       "3        False  False  False    False    False  False  False\n",
       "4        False  False  False    False    False  False  False\n",
       "..         ...    ...    ...      ...      ...    ...    ...\n",
       "95       False  False  False    False    False  False  False\n",
       "96       False  False  False    False    False  False  False\n",
       "97       False  False  False    False    False  False  False\n",
       "98       False  False  False    False    False  False  False\n",
       "99       False  False  False    False    False  False  False\n",
       "\n",
       "[100 rows x 7 columns]"
      ]
     },
     "execution_count": 4,
     "metadata": {},
     "output_type": "execute_result"
    }
   ],
   "source": [
    "df.isna()"
   ]
  },
  {
   "cell_type": "code",
   "execution_count": 5,
   "id": "0426a4ff-bc04-49ed-886f-c1fa198957a7",
   "metadata": {},
   "outputs": [
    {
     "data": {
      "text/html": [
       "<div>\n",
       "<style scoped>\n",
       "    .dataframe tbody tr th:only-of-type {\n",
       "        vertical-align: middle;\n",
       "    }\n",
       "\n",
       "    .dataframe tbody tr th {\n",
       "        vertical-align: top;\n",
       "    }\n",
       "\n",
       "    .dataframe thead th {\n",
       "        text-align: right;\n",
       "    }\n",
       "</style>\n",
       "<table border=\"1\" class=\"dataframe\">\n",
       "  <thead>\n",
       "    <tr style=\"text-align: right;\">\n",
       "      <th></th>\n",
       "      <th>Name</th>\n",
       "      <th>Match</th>\n",
       "      <th>Science</th>\n",
       "      <th>English</th>\n",
       "      <th>Total</th>\n",
       "    </tr>\n",
       "  </thead>\n",
       "  <tbody>\n",
       "    <tr>\n",
       "      <th>0</th>\n",
       "      <td>Dallas Flisher</td>\n",
       "      <td>82</td>\n",
       "      <td>48</td>\n",
       "      <td>83</td>\n",
       "      <td>56</td>\n",
       "    </tr>\n",
       "    <tr>\n",
       "      <th>1</th>\n",
       "      <td>Gilberta Ruoff</td>\n",
       "      <td>97</td>\n",
       "      <td>49</td>\n",
       "      <td>26</td>\n",
       "      <td>186</td>\n",
       "    </tr>\n",
       "    <tr>\n",
       "      <th>2</th>\n",
       "      <td>Peg Domoney</td>\n",
       "      <td>60</td>\n",
       "      <td>50</td>\n",
       "      <td>56</td>\n",
       "      <td>33</td>\n",
       "    </tr>\n",
       "    <tr>\n",
       "      <th>3</th>\n",
       "      <td>Frederich Kaley</td>\n",
       "      <td>29</td>\n",
       "      <td>80</td>\n",
       "      <td>30</td>\n",
       "      <td>280</td>\n",
       "    </tr>\n",
       "    <tr>\n",
       "      <th>4</th>\n",
       "      <td>Nady Tiffney</td>\n",
       "      <td>10</td>\n",
       "      <td>77</td>\n",
       "      <td>25</td>\n",
       "      <td>13</td>\n",
       "    </tr>\n",
       "  </tbody>\n",
       "</table>\n",
       "</div>"
      ],
      "text/plain": [
       "              Name  Match  Science  English  Total\n",
       "0   Dallas Flisher     82       48       83     56\n",
       "1   Gilberta Ruoff     97       49       26    186\n",
       "2      Peg Domoney     60       50       56     33\n",
       "3  Frederich Kaley     29       80       30    280\n",
       "4     Nady Tiffney     10       77       25     13"
      ]
     },
     "execution_count": 5,
     "metadata": {},
     "output_type": "execute_result"
    }
   ],
   "source": [
    "\n",
    "df['total']=df[['Match','Science','English']].sum(axis=1)\n",
    "df[['Name','Match','Science','English','Total']].head()\n"
   ]
  },
  {
   "cell_type": "code",
   "execution_count": 7,
   "id": "fbdcce53-5cb7-4c42-8cea-d1f739777022",
   "metadata": {},
   "outputs": [],
   "source": [
    "def assign_grade(total):\n",
    "    if total>=250:\n",
    "        return 'A'\n",
    "    elif total>=200:\n",
    "        return 'B'\n",
    "    elif total>=150:\n",
    "        return 'C'\n",
    "    else:\n",
    "        return 'D'"
   ]
  },
  {
   "cell_type": "code",
   "execution_count": 8,
   "id": "e4540a9d-9c72-47d6-bc23-d4d3d1507a16",
   "metadata": {},
   "outputs": [],
   "source": [
    "df['Grade']=df['Total'].apply(assign_grade)"
   ]
  },
  {
   "cell_type": "code",
   "execution_count": 11,
   "id": "dd4e6eee-24f4-4357-b234-81fcf9264bf5",
   "metadata": {},
   "outputs": [
    {
     "name": "stdout",
     "output_type": "stream",
     "text": [
      "                Name  Total Grade\n",
      "0     Dallas Flisher     56     D\n",
      "1     Gilberta Ruoff    186     C\n",
      "2        Peg Domoney     33     D\n",
      "3    Frederich Kaley    280     A\n",
      "4       Nady Tiffney     13     D\n",
      "..               ...    ...   ...\n",
      "95  Elvina Danihelka    279     A\n",
      "96      Ilsa Yankeev    225     B\n",
      "97    Ferdy Raubheim    281     A\n",
      "98      Jasmin Isacq    288     A\n",
      "99     Naomi Kenrick     99     D\n",
      "\n",
      "[100 rows x 3 columns]\n"
     ]
    }
   ],
   "source": [
    "print(df[[\"Name\",\"Total\",\"Grade\"]])"
   ]
  },
  {
   "cell_type": "code",
   "execution_count": 14,
   "id": "158348f0-78b6-44ee-90b4-a666a2018dba",
   "metadata": {},
   "outputs": [
    {
     "data": {
      "text/html": [
       "<div>\n",
       "<style scoped>\n",
       "    .dataframe tbody tr th:only-of-type {\n",
       "        vertical-align: middle;\n",
       "    }\n",
       "\n",
       "    .dataframe tbody tr th {\n",
       "        vertical-align: top;\n",
       "    }\n",
       "\n",
       "    .dataframe thead th {\n",
       "        text-align: right;\n",
       "    }\n",
       "</style>\n",
       "<table border=\"1\" class=\"dataframe\">\n",
       "  <thead>\n",
       "    <tr style=\"text-align: right;\">\n",
       "      <th></th>\n",
       "      <th>Name</th>\n",
       "      <th>Total</th>\n",
       "      <th>Grade</th>\n",
       "    </tr>\n",
       "  </thead>\n",
       "  <tbody>\n",
       "    <tr>\n",
       "      <th>95</th>\n",
       "      <td>Elvina Danihelka</td>\n",
       "      <td>279</td>\n",
       "      <td>A</td>\n",
       "    </tr>\n",
       "    <tr>\n",
       "      <th>96</th>\n",
       "      <td>Ilsa Yankeev</td>\n",
       "      <td>225</td>\n",
       "      <td>B</td>\n",
       "    </tr>\n",
       "    <tr>\n",
       "      <th>97</th>\n",
       "      <td>Ferdy Raubheim</td>\n",
       "      <td>281</td>\n",
       "      <td>A</td>\n",
       "    </tr>\n",
       "    <tr>\n",
       "      <th>98</th>\n",
       "      <td>Jasmin Isacq</td>\n",
       "      <td>288</td>\n",
       "      <td>A</td>\n",
       "    </tr>\n",
       "    <tr>\n",
       "      <th>99</th>\n",
       "      <td>Naomi Kenrick</td>\n",
       "      <td>99</td>\n",
       "      <td>D</td>\n",
       "    </tr>\n",
       "  </tbody>\n",
       "</table>\n",
       "</div>"
      ],
      "text/plain": [
       "                Name  Total Grade\n",
       "95  Elvina Danihelka    279     A\n",
       "96      Ilsa Yankeev    225     B\n",
       "97    Ferdy Raubheim    281     A\n",
       "98      Jasmin Isacq    288     A\n",
       "99     Naomi Kenrick     99     D"
      ]
     },
     "execution_count": 14,
     "metadata": {},
     "output_type": "execute_result"
    }
   ],
   "source": [
    "df[[\"Name\",\"Total\",\"Grade\"]].tail()"
   ]
  },
  {
   "cell_type": "code",
   "execution_count": 17,
   "id": "70b972a0-0482-48a2-b768-1e9dc5ceec05",
   "metadata": {},
   "outputs": [],
   "source": [
    "grade_a_students=df[df['Grade']=='A']\n"
   ]
  },
  {
   "cell_type": "code",
   "execution_count": 18,
   "id": "d1c24e42-5ec6-4946-81c3-cdcb9bb58b12",
   "metadata": {},
   "outputs": [
    {
     "name": "stdout",
     "output_type": "stream",
     "text": [
      "    STUDENT_ID              Name  Match  Science  English  Total Grade  total\n",
      "3            4   Frederich Kaley     29       80       30    280     A    139\n",
      "8            9      Saunder Faas     62       16       51    274     A    129\n",
      "17          18    Brana Glassard      3       61       67    274     A    131\n",
      "33          34    Marina Petkens     36       79        8    251     A    123\n",
      "68          69   Giralda Farnish     22       93       99    300     A    214\n",
      "73          74    Rivkah Cottage      5       26        5    266     A     36\n",
      "75          76   Thorny Wrighton     97       89       69    291     A    255\n",
      "80          81    Ervin Zukerman     39       43       39    280     A    121\n",
      "81          82  Torrie MacDermid     36       63       10    275     A    109\n",
      "84          85     Maddie Entres     23       34       86    278     A    143\n",
      "88          89   Sharona Fihelly     82       29       20    250     A    131\n",
      "93          94        Natty Dyte     37       64       85    265     A    186\n",
      "95          96  Elvina Danihelka     54       58       23    279     A    135\n",
      "97          98    Ferdy Raubheim      0       53      100    281     A    153\n",
      "98          99      Jasmin Isacq     99       63       86    288     A    248\n"
     ]
    }
   ],
   "source": [
    "print(grade_a_students)"
   ]
  },
  {
   "cell_type": "code",
   "execution_count": 19,
   "id": "951724b3-f1a6-46ae-85d3-626ca27979e6",
   "metadata": {},
   "outputs": [
    {
     "name": "stdout",
     "output_type": "stream",
     "text": [
      "15\n"
     ]
    }
   ],
   "source": [
    "grade_b_students=df[df['Grade']=='B']\n",
    "print(len(grade_b_students))"
   ]
  },
  {
   "cell_type": "code",
   "execution_count": 20,
   "id": "66ddaf94-918e-4ca4-86c4-023794afc07b",
   "metadata": {},
   "outputs": [
    {
     "name": "stdout",
     "output_type": "stream",
     "text": [
      "46\n"
     ]
    }
   ],
   "source": [
    "print(len(df[df['Grade']=='D']))"
   ]
  },
  {
   "cell_type": "code",
   "execution_count": 22,
   "id": "20f649fb-0059-4324-84dc-4825423d5e7c",
   "metadata": {},
   "outputs": [
    {
     "name": "stdout",
     "output_type": "stream",
     "text": [
      "100\n"
     ]
    }
   ],
   "source": [
    "math_max=max(df['Match'])\n",
    "print(math_max)"
   ]
  },
  {
   "cell_type": "code",
   "execution_count": 23,
   "id": "d3f6eecf-bdae-4fbd-b9fe-077ad103557a",
   "metadata": {},
   "outputs": [
    {
     "name": "stdout",
     "output_type": "stream",
     "text": [
      "    STUDENT_ID            Name  Match  Science  English  Total Grade  total\n",
      "23          24  Onofredo Sture    100       71       71    227     B    242\n"
     ]
    }
   ],
   "source": [
    "print(df[df['Match']==math_max])"
   ]
  },
  {
   "cell_type": "code",
   "execution_count": 25,
   "id": "48188997-288a-4f8c-bd3d-106ce3c29fdc",
   "metadata": {},
   "outputs": [
    {
     "name": "stdout",
     "output_type": "stream",
     "text": [
      "Data saved Sucessfully!\n"
     ]
    }
   ],
   "source": [
    "df.to_csv(\"marks_new.csv\", index=False)\n",
    "print(\"Data saved Sucessfully!\")"
   ]
  },
  {
   "cell_type": "code",
   "execution_count": null,
   "id": "82f0a353-369f-45cd-baae-d8c4f5f15b9b",
   "metadata": {},
   "outputs": [],
   "source": []
  }
 ],
 "metadata": {
  "kernelspec": {
   "display_name": "Python 3 (ipykernel)",
   "language": "python",
   "name": "python3"
  },
  "language_info": {
   "codemirror_mode": {
    "name": "ipython",
    "version": 3
   },
   "file_extension": ".py",
   "mimetype": "text/x-python",
   "name": "python",
   "nbconvert_exporter": "python",
   "pygments_lexer": "ipython3",
   "version": "3.13.2"
  }
 },
 "nbformat": 4,
 "nbformat_minor": 5
}
