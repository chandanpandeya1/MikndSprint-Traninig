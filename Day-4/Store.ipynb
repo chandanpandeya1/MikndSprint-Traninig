{
 "cells": [
  {
   "cell_type": "code",
   "execution_count": 1,
   "id": "bdff5324-621a-4238-b85d-cc845899b1ae",
   "metadata": {},
   "outputs": [
    {
     "name": "stdout",
     "output_type": "stream",
     "text": [
      "   ORDER_ID                    Product  Category  Quantity  Price  \\\n",
      "0      1001                 TCL 10 Pro       TCL         2   3241   \n",
      "1      1002  Micromax Canvas Play Q355  Micromax         4   7136   \n",
      "2      1003                   BenQ E55      BenQ         3   9357   \n",
      "3      1004                  Nokia N96     Nokia         3  11521   \n",
      "4      1005              Lava Iris 350      Lava         1  11524   \n",
      "\n",
      "   Total_amount        Date  \n",
      "0             0    1/4/2025  \n",
      "1             0   7/27/2024  \n",
      "2             0   3/12/2024  \n",
      "3             0  10/15/2024  \n",
      "4             0   5/22/2024  \n"
     ]
    }
   ],
   "source": [
    "import pandas as pd\n",
    "df=pd.read_csv(\"store_data.csv\")\n",
    "print(df.head())"
   ]
  },
  {
   "cell_type": "code",
   "execution_count": 2,
   "id": "d2a2af69-d402-4dc7-819a-3688cfa9c5be",
   "metadata": {},
   "outputs": [
    {
     "name": "stdout",
     "output_type": "stream",
     "text": [
      "   ORDER_ID                    Product  Category  Quantity  Price  \\\n",
      "0      1001                 TCL 10 Pro       TCL         2   3241   \n",
      "1      1002  Micromax Canvas Play Q355  Micromax         4   7136   \n",
      "2      1003                   BenQ E55      BenQ         3   9357   \n",
      "3      1004                  Nokia N96     Nokia         3  11521   \n",
      "4      1005              Lava Iris 350      Lava         1  11524   \n",
      "\n",
      "   Total_amount        Date  \n",
      "0          6482    1/4/2025  \n",
      "1         28544   7/27/2024  \n",
      "2         28071   3/12/2024  \n",
      "3         34563  10/15/2024  \n",
      "4         11524   5/22/2024  \n"
     ]
    }
   ],
   "source": [
    "df['Total_amount'] = df['Quantity'] * df['Price']\n",
    "print(df.head())"
   ]
  },
  {
   "cell_type": "code",
   "execution_count": 4,
   "id": "3c1bcdbc-ac56-4c38-8b04-615dc9e0a2a6",
   "metadata": {},
   "outputs": [
    {
     "name": "stdout",
     "output_type": "stream",
     "text": [
      "    ORDER_ID                    Product  Category  Quantity  Price  \\\n",
      "0       1001                 TCL 10 Pro       TCL         2   3241   \n",
      "1       1002  Micromax Canvas Play Q355  Micromax         4   7136   \n",
      "2       1003                   BenQ E55      BenQ         3   9357   \n",
      "3       1004                  Nokia N96     Nokia         3  11521   \n",
      "4       1005              Lava Iris 350      Lava         1  11524   \n",
      "5       1006       Xiaomi Redmi Note 7S    Xiaomi         1   4431   \n",
      "6       1007              Sony Xperia E      Sony         5   7909   \n",
      "7       1008                  LG X Skin        LG         5  11339   \n",
      "8       1009                Nokia C2-02     Nokia         5   5483   \n",
      "9       1010         Sony Ericsson Z780      Sony         2  10585   \n",
      "10      1011        Apple iPhone 12 Pro     Apple         2   7305   \n",
      "11      1012                  HTC One X       HTC         2   9942   \n",
      "12      1013               ZTE Nova 3.5       ZTE         3   9075   \n",
      "13      1014       Nokia 7310 Supernova     Nokia         3   2867   \n",
      "14      1015     NIU Niutek 3G 4.0 N309       NIU         4   8469   \n",
      "15      1016         Sony Xperia acro S      Sony         2   5558   \n",
      "16      1017         Sony Ericsson Z530      Sony         2   9611   \n",
      "17      1018                  alcatel 1   alcatel         4  10582   \n",
      "18      1019           Huawei Y7 (2018)    Huawei         4   9855   \n",
      "19      1020             Allview P5 Pro   Allview         4   9564   \n",
      "\n",
      "    Total_amount        Date  \n",
      "0           6482    1/4/2025  \n",
      "1          28544   7/27/2024  \n",
      "2          28071   3/12/2024  \n",
      "3          34563  10/15/2024  \n",
      "4          11524   5/22/2024  \n",
      "5           4431   9/19/2024  \n",
      "6          39545   6/18/2024  \n",
      "7          56695    8/4/2024  \n",
      "8          27415    3/8/2024  \n",
      "9          21170   3/18/2024  \n",
      "10         14610   5/25/2024  \n",
      "11         19884  10/28/2024  \n",
      "12         27225  10/24/2024  \n",
      "13          8601   10/7/2024  \n",
      "14         33876    6/2/2024  \n",
      "15         11116    6/9/2024  \n",
      "16         19222    8/5/2024  \n",
      "17         42328    3/9/2024  \n",
      "18         39420    5/9/2024  \n",
      "19         38256   11/3/2024  \n"
     ]
    }
   ],
   "source": [
    "orders_above = df[df['Total_amount'] > 4000]\n",
    "print(orders_above)"
   ]
  },
  {
   "cell_type": "code",
   "execution_count": 11,
   "id": "7e8915bc-15f7-4817-9641-ecba28464f86",
   "metadata": {},
   "outputs": [
    {
     "name": "stdout",
     "output_type": "stream",
     "text": [
      "LG X Skin\n"
     ]
    }
   ],
   "source": [
    "store=pd.read_csv(\"store_data.csv\")\n",
    "#print(store)\n",
    "most_sold_products=store.groupby('Product')['Quantity'].sum().idxmax()\n",
    "print(most_sold_products)"
   ]
  },
  {
   "cell_type": "code",
   "execution_count": 15,
   "id": "da71e99c-b327-455f-abd9-c11fecf99545",
   "metadata": {},
   "outputs": [
    {
     "name": "stdout",
     "output_type": "stream",
     "text": [
      "p2\n"
     ]
    }
   ],
   "source": [
    "df1=pd.DataFrame({\n",
    "    \"id\":[1,2,3,4,5],\n",
    "    \"name\":[\"p1\",\"p2\",\"p1\", \"p2\",\"p3\"],\n",
    "    \"quantity\":[1,2,2,2,3],\n",
    "    \"price\":[10,20,10,20,30]\n",
    "})\n",
    "print(df1.groupby('name')['quantity'].sum().idxmax())"
   ]
  },
  {
   "cell_type": "code",
   "execution_count": null,
   "id": "aaffc812-4321-49fb-86da-71589dd83309",
   "metadata": {},
   "outputs": [],
   "source": []
  }
 ],
 "metadata": {
  "kernelspec": {
   "display_name": "Python 3 (ipykernel)",
   "language": "python",
   "name": "python3"
  },
  "language_info": {
   "codemirror_mode": {
    "name": "ipython",
    "version": 3
   },
   "file_extension": ".py",
   "mimetype": "text/x-python",
   "name": "python",
   "nbconvert_exporter": "python",
   "pygments_lexer": "ipython3",
   "version": "3.13.2"
  }
 },
 "nbformat": 4,
 "nbformat_minor": 5
}
